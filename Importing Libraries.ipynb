{
 "cells": [
  {
   "cell_type": "markdown",
   "metadata": {},
   "source": [
    "# Math Library"
   ]
  },
  {
   "cell_type": "code",
   "execution_count": 2,
   "metadata": {},
   "outputs": [],
   "source": [
    "import math"
   ]
  },
  {
   "cell_type": "code",
   "execution_count": 3,
   "metadata": {},
   "outputs": [
    {
     "name": "stdout",
     "output_type": "stream",
     "text": [
      "The gcd of 5 and 15 is : 5\n"
     ]
    }
   ],
   "source": [
    "# gcd() greatest common divisor\n",
    "\n",
    "# returning the gcd of 15 and 5 \n",
    "print(\"The gcd of 5 and 15 is : \", end=\"\") \n",
    "print(math.gcd(5,15))"
   ]
  },
  {
   "cell_type": "code",
   "execution_count": 4,
   "metadata": {},
   "outputs": [
    {
     "name": "stdout",
     "output_type": "stream",
     "text": [
      "11\n",
      "10\n"
     ]
    }
   ],
   "source": [
    "# ceiling and floor\n",
    "\n",
    "a = 10.24\n",
    "print(math.ceil(a))\n",
    "print(math.floor(a))\n"
   ]
  },
  {
   "cell_type": "code",
   "execution_count": 5,
   "metadata": {},
   "outputs": [
    {
     "name": "stdout",
     "output_type": "stream",
     "text": [
      "10.0\n",
      "The absolute value of -10  is :  10.0\n"
     ]
    },
    {
     "data": {
      "text/plain": [
       "20"
      ]
     },
     "execution_count": 5,
     "metadata": {},
     "output_type": "execute_result"
    }
   ],
   "source": [
    "#absolute value (fabs)\n",
    "\n",
    "a = -10\n",
    "\n",
    "print(math.fabs(a))\n",
    "print (\"The absolute value of\", a ,\" is : \", math.fabs(a)) \n",
    "\n",
    "b = -20\n",
    "abs(b)"
   ]
  },
  {
   "cell_type": "code",
   "execution_count": 6,
   "metadata": {},
   "outputs": [
    {
     "name": "stdout",
     "output_type": "stream",
     "text": [
      "The factorial of 5 is :  120\n"
     ]
    }
   ],
   "source": [
    "# returning the factorial of 5\n",
    "\n",
    "b = 5\n",
    "\n",
    "print (\"The factorial of 5 is : \", end=\" \") \n",
    "print (math.factorial(b)) "
   ]
  },
  {
   "cell_type": "markdown",
   "metadata": {},
   "source": [
    "# Random Library"
   ]
  },
  {
   "cell_type": "code",
   "execution_count": 36,
   "metadata": {},
   "outputs": [
    {
     "data": {
      "text/plain": [
       "2"
      ]
     },
     "execution_count": 36,
     "metadata": {},
     "output_type": "execute_result"
    }
   ],
   "source": [
    "import random\n",
    "\n",
    "random.randint(1, 10)"
   ]
  },
  {
   "cell_type": "code",
   "execution_count": 41,
   "metadata": {},
   "outputs": [
    {
     "data": {
      "text/plain": [
       "0.5948990277263133"
      ]
     },
     "execution_count": 41,
     "metadata": {},
     "output_type": "execute_result"
    }
   ],
   "source": [
    "random.random()"
   ]
  },
  {
   "cell_type": "code",
   "execution_count": 43,
   "metadata": {},
   "outputs": [
    {
     "name": "stdout",
     "output_type": "stream",
     "text": [
      "3\n",
      "78\n",
      "38\n",
      "43\n",
      "33\n"
     ]
    }
   ],
   "source": [
    "for i in range(5):\n",
    "    print(random.randrange(3, 100, 5))"
   ]
  },
  {
   "cell_type": "code",
   "execution_count": 10,
   "metadata": {},
   "outputs": [
    {
     "data": {
      "text/plain": [
       "12"
      ]
     },
     "execution_count": 10,
     "metadata": {},
     "output_type": "execute_result"
    }
   ],
   "source": [
    "random.randrange(6, 100, 6)"
   ]
  },
  {
   "cell_type": "code",
   "execution_count": 44,
   "metadata": {},
   "outputs": [
    {
     "name": "stdout",
     "output_type": "stream",
     "text": [
      "And it is :  head\n"
     ]
    }
   ],
   "source": [
    "coin_toss = ['head', 'tail']\n",
    "print(\"And it is : \", random.choice(coin_toss))"
   ]
  },
  {
   "cell_type": "code",
   "execution_count": null,
   "metadata": {},
   "outputs": [],
   "source": []
  },
  {
   "cell_type": "markdown",
   "metadata": {},
   "source": [
    "# time"
   ]
  },
  {
   "cell_type": "code",
   "execution_count": 45,
   "metadata": {},
   "outputs": [
    {
     "name": "stdout",
     "output_type": "stream",
     "text": [
      "Seconds since epoch = 1576390151.226736\n"
     ]
    }
   ],
   "source": [
    "import time\n",
    "\n",
    "# time() \n",
    "\n",
    "seconds = time.time()\n",
    "print(\"Seconds since epoch =\", seconds)\n",
    "\n",
    "# January 1, 1970, 00:00:00 at UTC is epoch (the point where time begins)."
   ]
  },
  {
   "cell_type": "code",
   "execution_count": 13,
   "metadata": {},
   "outputs": [],
   "source": [
    "s1 = time.time()"
   ]
  },
  {
   "cell_type": "code",
   "execution_count": 46,
   "metadata": {},
   "outputs": [
    {
     "name": "stdout",
     "output_type": "stream",
     "text": [
      "Local time: Sun Dec 15 11:39:11 2019\n"
     ]
    },
    {
     "data": {
      "text/plain": [
       "str"
      ]
     },
     "execution_count": 46,
     "metadata": {},
     "output_type": "execute_result"
    }
   ],
   "source": [
    "# ctime()\n",
    "\n",
    "# seconds passed since epoch\n",
    "\n",
    "local_time = time.ctime(seconds)\n",
    "print(\"Local time:\", local_time)\n",
    "type(local_time)"
   ]
  },
  {
   "cell_type": "code",
   "execution_count": 48,
   "metadata": {},
   "outputs": [
    {
     "name": "stdout",
     "output_type": "stream",
     "text": [
      "This is printed immediately.\n",
      "This is printed after 10 seconds.\n"
     ]
    }
   ],
   "source": [
    "# sleep()\n",
    "\n",
    "print(\"This is printed immediately.\")\n",
    "time.sleep(10)\n",
    "print(\"This is printed after 10 seconds.\")"
   ]
  },
  {
   "cell_type": "code",
   "execution_count": 49,
   "metadata": {},
   "outputs": [
    {
     "name": "stdout",
     "output_type": "stream",
     "text": [
      "result: time.struct_time(tm_year=2019, tm_mon=12, tm_mday=15, tm_hour=11, tm_min=41, tm_sec=39, tm_wday=6, tm_yday=349, tm_isdst=0)\n",
      "\n",
      "year: 2019\n",
      "month:  12\n",
      "day:  15\n",
      "tm_hour: 11\n",
      "minute:  41\n",
      "weekday:  6\n"
     ]
    }
   ],
   "source": [
    "# The localtime() function returns struct_time in local time.\n",
    "\n",
    "result = time.localtime()\n",
    "print(\"result:\", result)\n",
    "\n",
    "# year = int(result.tm_year)\n",
    "\n",
    "print(\"\\nyear:\", result.tm_year)\n",
    "print(\"month: \", result.tm_mon)\n",
    "print(\"day: \", result.tm_mday)\n",
    "print(\"tm_hour:\", result.tm_hour)\n",
    "print(\"minute: \", result.tm_min)\n",
    "print(\"weekday: \", result.tm_wday)        # 0 >> monday"
   ]
  },
  {
   "cell_type": "code",
   "execution_count": 50,
   "metadata": {},
   "outputs": [
    {
     "name": "stdout",
     "output_type": "stream",
     "text": [
      "result: \n",
      " time.struct_time(tm_year=2019, tm_mon=12, tm_mday=15, tm_hour=6, tm_min=11, tm_sec=50, tm_wday=6, tm_yday=349, tm_isdst=0)\n",
      "\n",
      "year: 2019\n",
      "month:  12\n",
      "day:  15\n",
      "tm_hour: 6\n",
      "minute:  11\n",
      "weekday:  6\n"
     ]
    }
   ],
   "source": [
    "result = time.gmtime()\n",
    "\n",
    "print(\"result: \\n\", result)\n",
    "print(\"\\nyear:\", result.tm_year)\n",
    "print(\"month: \", result.tm_mon)\n",
    "print(\"day: \", result.tm_mday)\n",
    "print(\"tm_hour:\", result.tm_hour)\n",
    "print(\"minute: \", result.tm_min)\n",
    "print(\"weekday: \", result.tm_wday)"
   ]
  },
  {
   "cell_type": "markdown",
   "metadata": {},
   "source": [
    "# strftime() : string from time"
   ]
  },
  {
   "cell_type": "code",
   "execution_count": 52,
   "metadata": {},
   "outputs": [
    {
     "name": "stdout",
     "output_type": "stream",
     "text": [
      "time.struct_time(tm_year=2019, tm_mon=12, tm_mday=15, tm_hour=11, tm_min=43, tm_sec=9, tm_wday=6, tm_yday=349, tm_isdst=0)\n",
      "<class 'time.struct_time'>\n",
      "12/15/2019, 11:43:09\n"
     ]
    }
   ],
   "source": [
    "current_time = time.localtime() # get struct_time\n",
    "\n",
    "print(current_time)\n",
    "print(type(current_time))\n",
    "\n",
    "time_string = time.strftime(\"%m/%d/%Y, %H:%M:%S\", current_time)\n",
    "\n",
    "print(time_string)\n",
    "# print(type(time_string))"
   ]
  },
  {
   "cell_type": "markdown",
   "metadata": {},
   "source": [
    "# strptime() : converts str to time"
   ]
  },
  {
   "cell_type": "code",
   "execution_count": 54,
   "metadata": {},
   "outputs": [
    {
     "name": "stdout",
     "output_type": "stream",
     "text": [
      "time.struct_time(tm_year=2019, tm_mon=9, tm_mday=10, tm_hour=0, tm_min=0, tm_sec=0, tm_wday=1, tm_yday=253, tm_isdst=-1)\n"
     ]
    }
   ],
   "source": [
    "time_string = \"10 September, 2019\"\n",
    "\n",
    "\n",
    "result = time.strptime(time_string, \"%d %B, %Y\")\n",
    "print(result)\n",
    "# print(type(result))"
   ]
  },
  {
   "cell_type": "markdown",
   "metadata": {},
   "source": [
    "# RegEx Library "
   ]
  },
  {
   "cell_type": "markdown",
   "metadata": {},
   "source": [
    "    findall\t>>  Returns a list containing all matches\n",
    "\n",
    "    search\t>>  Returns a Match object if there is a match anywhere in the string\n",
    "    \n",
    "    split\t>>  Returns a list where the string has been split at each match\n",
    "    \n",
    "    sub\t    >>  Replaces one or many matches with a string"
   ]
  },
  {
   "cell_type": "code",
   "execution_count": 20,
   "metadata": {},
   "outputs": [],
   "source": [
    "import re"
   ]
  },
  {
   "cell_type": "markdown",
   "metadata": {},
   "source": [
    "## findall"
   ]
  },
  {
   "cell_type": "code",
   "execution_count": 63,
   "metadata": {},
   "outputs": [
    {
     "name": "stdout",
     "output_type": "stream",
     "text": [
      "['989']\n"
     ]
    },
    {
     "ename": "AttributeError",
     "evalue": "'list' object has no attribute 'span'",
     "output_type": "error",
     "traceback": [
      "\u001b[0;31m---------------------------------------------------------------------------\u001b[0m",
      "\u001b[0;31mAttributeError\u001b[0m                            Traceback (most recent call last)",
      "\u001b[0;32m<ipython-input-63-5482b65f9801>\u001b[0m in \u001b[0;36m<module>\u001b[0;34m\u001b[0m\n\u001b[1;32m      3\u001b[0m \u001b[0mx\u001b[0m \u001b[0;34m=\u001b[0m \u001b[0mre\u001b[0m\u001b[0;34m.\u001b[0m\u001b[0mfindall\u001b[0m\u001b[0;34m(\u001b[0m\u001b[0;34m\"\\d\\d\\d\"\u001b[0m\u001b[0;34m,\u001b[0m \u001b[0mstr1\u001b[0m\u001b[0;34m)\u001b[0m            \u001b[0;31m# re.findall(expression, string)\u001b[0m\u001b[0;34m\u001b[0m\u001b[0;34m\u001b[0m\u001b[0m\n\u001b[1;32m      4\u001b[0m \u001b[0mprint\u001b[0m\u001b[0;34m(\u001b[0m\u001b[0mx\u001b[0m\u001b[0;34m)\u001b[0m\u001b[0;34m\u001b[0m\u001b[0;34m\u001b[0m\u001b[0m\n\u001b[0;32m----> 5\u001b[0;31m \u001b[0mx\u001b[0m\u001b[0;34m.\u001b[0m\u001b[0mspan\u001b[0m\u001b[0;34m(\u001b[0m\u001b[0;34m)\u001b[0m\u001b[0;34m\u001b[0m\u001b[0;34m\u001b[0m\u001b[0m\n\u001b[0m",
      "\u001b[0;31mAttributeError\u001b[0m: 'list' object has no attribute 'span'"
     ]
    }
   ],
   "source": [
    "str1 = \"The X x 14 rain 5 in spain - 9898\"\n",
    "\n",
    "x = re.findall(\"\\d\\d\\d\", str1)            # re.findall(expression, string)\n",
    "print(x)\n",
    "# x.span()"
   ]
  },
  {
   "cell_type": "code",
   "execution_count": 62,
   "metadata": {},
   "outputs": [
    {
     "name": "stdout",
     "output_type": "stream",
     "text": [
      "['x']\n"
     ]
    }
   ],
   "source": [
    "y = re.findall(\"x\", str1)\n",
    "print(y)"
   ]
  },
  {
   "cell_type": "markdown",
   "metadata": {},
   "source": [
    "## search"
   ]
  },
  {
   "cell_type": "code",
   "execution_count": 67,
   "metadata": {},
   "outputs": [
    {
     "name": "stdout",
     "output_type": "stream",
     "text": [
      "(3, 5)\n",
      "<re.Match object; span=(3, 5), match='98'>\n"
     ]
    }
   ],
   "source": [
    "str1 = \"The98nbrain in Spain - 9898\"\n",
    "\n",
    "x = re.search(\"\\d\\d\", str1)\n",
    "print(x.span())\n",
    "x.group()\n",
    "\n",
    "# y = x.span()\n",
    "# z = x.group()\n",
    "\n",
    "print(x)\n",
    "\n",
    "# print(y, z)\n",
    "\n",
    "# # print(type(z))"
   ]
  },
  {
   "cell_type": "markdown",
   "metadata": {},
   "source": [
    "## split"
   ]
  },
  {
   "cell_type": "code",
   "execution_count": 68,
   "metadata": {},
   "outputs": [
    {
     "name": "stdout",
     "output_type": "stream",
     "text": [
      "['The', 'rain', 'in', 'Spain']\n"
     ]
    }
   ],
   "source": [
    "str1 = \"The rain in Spain\"\n",
    "x = re.split(\" \", str1)\n",
    "print(x)"
   ]
  },
  {
   "cell_type": "code",
   "execution_count": 72,
   "metadata": {},
   "outputs": [
    {
     "name": "stdout",
     "output_type": "stream",
     "text": [
      "['The', 'rain', 'in Spain']\n"
     ]
    }
   ],
   "source": [
    "x = re.split(\" \", str1, 2)\n",
    "print(x)"
   ]
  },
  {
   "cell_type": "markdown",
   "metadata": {},
   "source": [
    "## sub"
   ]
  },
  {
   "cell_type": "code",
   "execution_count": 79,
   "metadata": {},
   "outputs": [
    {
     "data": {
      "text/plain": [
       "'Hello friend friend friendsd'"
      ]
     },
     "execution_count": 79,
     "metadata": {},
     "output_type": "execute_result"
    }
   ],
   "source": [
    "str1 = 'Hello world world worldsd'\n",
    "\n",
    "str2 = re.sub('world', 'friend', str1)\n",
    "str2\n",
    "\n",
    "# re.sub?"
   ]
  },
  {
   "cell_type": "markdown",
   "metadata": {},
   "source": [
    "## compile"
   ]
  },
  {
   "cell_type": "markdown",
   "metadata": {},
   "source": [
    "- ^ == start with\n",
    "- $ == end with\n",
    "- .* == all\n",
    "- [A-Z]== all capital letter\n",
    "-  [a-z] lower case a-z\n",
    "- [0-9] digit\n"
   ]
  },
  {
   "cell_type": "code",
   "execution_count": 90,
   "metadata": {},
   "outputs": [
    {
     "data": {
      "text/plain": [
       "<re.Match object; span=(0, 46), match='Hello how are   @@@@@@fgdgfdgdfgfsfds    World'>"
      ]
     },
     "execution_count": 90,
     "metadata": {},
     "output_type": "execute_result"
    }
   ],
   "source": [
    "exp = re.compile('^Hello.*World$')\n",
    "\n",
    "y = exp.search('Hello how are       World')\n",
    "y"
   ]
  },
  {
   "cell_type": "code",
   "execution_count": 26,
   "metadata": {},
   "outputs": [
    {
     "name": "stdout",
     "output_type": "stream",
     "text": [
      "The_rain_in_Spain\n",
      "The_rain in Spain\n"
     ]
    }
   ],
   "source": [
    "str1 = \"The rain in Spain\"\n",
    "\n",
    "x = re.sub(\" \", \"_\", str1)\n",
    "print(x)\n",
    "\n",
    "y = re.sub(\"\\s\", \"_\", str1, 1)         # specifying the count\n",
    "print(y)"
   ]
  },
  {
   "cell_type": "code",
   "execution_count": 92,
   "metadata": {},
   "outputs": [
    {
     "name": "stdout",
     "output_type": "stream",
     "text": [
      "['T', 'h', 'e', 'r', 'a', 'i', 'n', 'i', 'n', 'S', 'p', 'a', 'i', 'n']\n"
     ]
    }
   ],
   "source": [
    "str1 = \"The rain in Spain\"\n",
    "\n",
    "#Find all lower case characters alphabetically between \"a\" and \"m\":\n",
    "\n",
    "x = re.findall(\"[A-Za-m]\", str1)        # A-Z and a-m\n",
    "print(x)"
   ]
  },
  {
   "cell_type": "code",
   "execution_count": 95,
   "metadata": {},
   "outputs": [
    {
     "name": "stdout",
     "output_type": "stream",
     "text": [
      "['From hello world']\n"
     ]
    }
   ],
   "source": [
    "str1 = \"From hello world\"\n",
    "\n",
    "#Search for a sequence that starts with \"he\", followed by two (any) characters, and an \"o\":\n",
    "\n",
    "x = re.findall(\"^From.*\", str1)\n",
    "print(x)"
   ]
  },
  {
   "cell_type": "code",
   "execution_count": 30,
   "metadata": {},
   "outputs": [
    {
     "ename": "TypeError",
     "evalue": "'float' object is not iterable",
     "output_type": "error",
     "traceback": [
      "\u001b[0;31m---------------------------------------------------------------------------\u001b[0m",
      "\u001b[0;31mTypeError\u001b[0m                                 Traceback (most recent call last)",
      "\u001b[0;32m<ipython-input-30-8a5813658d71>\u001b[0m in \u001b[0;36m<module>\u001b[0;34m\u001b[0m\n\u001b[1;32m      2\u001b[0m \u001b[0;34m\u001b[0m\u001b[0m\n\u001b[1;32m      3\u001b[0m \u001b[0mx\u001b[0m\u001b[0;34m=\u001b[0m\u001b[0;34m[\u001b[0m\u001b[0;34m]\u001b[0m\u001b[0;34m\u001b[0m\u001b[0;34m\u001b[0m\u001b[0m\n\u001b[0;32m----> 4\u001b[0;31m \u001b[0;32mfor\u001b[0m \u001b[0mi\u001b[0m \u001b[0;32min\u001b[0m \u001b[0ms1\u001b[0m\u001b[0;34m:\u001b[0m\u001b[0;34m\u001b[0m\u001b[0;34m\u001b[0m\u001b[0m\n\u001b[0m\u001b[1;32m      5\u001b[0m     \u001b[0ma\u001b[0m \u001b[0;34m=\u001b[0m \u001b[0mre\u001b[0m\u001b[0;34m.\u001b[0m\u001b[0msearch\u001b[0m\u001b[0;34m(\u001b[0m\u001b[0;34m'^h.*'\u001b[0m\u001b[0;34m,\u001b[0m \u001b[0mi\u001b[0m\u001b[0;34m)\u001b[0m\u001b[0;34m\u001b[0m\u001b[0;34m\u001b[0m\u001b[0m\n\u001b[1;32m      6\u001b[0m     \u001b[0;32mif\u001b[0m \u001b[0ma\u001b[0m\u001b[0;34m!=\u001b[0m\u001b[0;32mNone\u001b[0m\u001b[0;34m:\u001b[0m\u001b[0;34m\u001b[0m\u001b[0;34m\u001b[0m\u001b[0m\n",
      "\u001b[0;31mTypeError\u001b[0m: 'float' object is not iterable"
     ]
    }
   ],
   "source": [
    "l = ['hello world', 'hello', 'hi', 'friend']\n",
    "\n",
    "x=[]\n",
    "for i in s1:\n",
    "    a = re.search('^h.*', i)\n",
    "    if a!=None:\n",
    "        x.append(a.group()) \n",
    "\n",
    "print(x)\n",
    "\n",
    "\n",
    "s = '''hello world hello hi friend'''\n",
    "s1 = re.split(' ', s)\n",
    "s1"
   ]
  },
  {
   "cell_type": "markdown",
   "metadata": {},
   "source": [
    "# Pandas"
   ]
  },
  {
   "cell_type": "code",
   "execution_count": 96,
   "metadata": {},
   "outputs": [],
   "source": [
    "import pandas as pd"
   ]
  },
  {
   "cell_type": "code",
   "execution_count": 99,
   "metadata": {},
   "outputs": [],
   "source": [
    "company   = ['Maruti', 'Honda', 'Hyundai', 'Tata' ]\n",
    "model     = ['800', 'City', 'i20', 'Indica']\n",
    "speeds    = [120, 220, 180, 160]\n",
    "cylinders = [3, 4, 4, 4]\n",
    "cc        = [800, 1500, 1200, 1200]\n",
    "p_steering  = [False, True, True, True]\n",
    "\n",
    "d = {\"Company\": company, \"model\": model, \"Top Speed\": speeds, \"Cylinders\": cylinders,\n",
    "     \"CC\": cc, \"Power Steering\": p_steering }"
   ]
  },
  {
   "cell_type": "code",
   "execution_count": 101,
   "metadata": {},
   "outputs": [
    {
     "data": {
      "text/html": [
       "<div>\n",
       "<style scoped>\n",
       "    .dataframe tbody tr th:only-of-type {\n",
       "        vertical-align: middle;\n",
       "    }\n",
       "\n",
       "    .dataframe tbody tr th {\n",
       "        vertical-align: top;\n",
       "    }\n",
       "\n",
       "    .dataframe thead th {\n",
       "        text-align: right;\n",
       "    }\n",
       "</style>\n",
       "<table border=\"1\" class=\"dataframe\">\n",
       "  <thead>\n",
       "    <tr style=\"text-align: right;\">\n",
       "      <th></th>\n",
       "      <th>Company</th>\n",
       "      <th>model</th>\n",
       "      <th>Top Speed</th>\n",
       "      <th>Cylinders</th>\n",
       "      <th>CC</th>\n",
       "      <th>Power Steering</th>\n",
       "    </tr>\n",
       "  </thead>\n",
       "  <tbody>\n",
       "    <tr>\n",
       "      <th>0</th>\n",
       "      <td>Maruti</td>\n",
       "      <td>800</td>\n",
       "      <td>120</td>\n",
       "      <td>3</td>\n",
       "      <td>800</td>\n",
       "      <td>False</td>\n",
       "    </tr>\n",
       "    <tr>\n",
       "      <th>1</th>\n",
       "      <td>Honda</td>\n",
       "      <td>City</td>\n",
       "      <td>220</td>\n",
       "      <td>4</td>\n",
       "      <td>1500</td>\n",
       "      <td>True</td>\n",
       "    </tr>\n",
       "    <tr>\n",
       "      <th>2</th>\n",
       "      <td>Hyundai</td>\n",
       "      <td>i20</td>\n",
       "      <td>180</td>\n",
       "      <td>4</td>\n",
       "      <td>1200</td>\n",
       "      <td>True</td>\n",
       "    </tr>\n",
       "    <tr>\n",
       "      <th>3</th>\n",
       "      <td>Tata</td>\n",
       "      <td>Indica</td>\n",
       "      <td>160</td>\n",
       "      <td>4</td>\n",
       "      <td>1200</td>\n",
       "      <td>True</td>\n",
       "    </tr>\n",
       "  </tbody>\n",
       "</table>\n",
       "</div>"
      ],
      "text/plain": [
       "   Company   model  Top Speed  Cylinders    CC  Power Steering\n",
       "0   Maruti     800        120          3   800           False\n",
       "1    Honda    City        220          4  1500            True\n",
       "2  Hyundai     i20        180          4  1200            True\n",
       "3     Tata  Indica        160          4  1200            True"
      ]
     },
     "execution_count": 101,
     "metadata": {},
     "output_type": "execute_result"
    }
   ],
   "source": [
    "df = pd.DataFrame(d)\n",
    "df\n",
    "# df.iat[0,1]"
   ]
  },
  {
   "cell_type": "code",
   "execution_count": 102,
   "metadata": {},
   "outputs": [
    {
     "data": {
      "text/plain": [
       "'800'"
      ]
     },
     "execution_count": 102,
     "metadata": {},
     "output_type": "execute_result"
    }
   ],
   "source": [
    "df.iat[0,1]"
   ]
  },
  {
   "cell_type": "code",
   "execution_count": 103,
   "metadata": {},
   "outputs": [
    {
     "data": {
      "text/plain": [
       "4"
      ]
     },
     "execution_count": 103,
     "metadata": {},
     "output_type": "execute_result"
    }
   ],
   "source": [
    "len(df)"
   ]
  },
  {
   "cell_type": "code",
   "execution_count": 104,
   "metadata": {},
   "outputs": [
    {
     "data": {
      "text/html": [
       "<div>\n",
       "<style scoped>\n",
       "    .dataframe tbody tr th:only-of-type {\n",
       "        vertical-align: middle;\n",
       "    }\n",
       "\n",
       "    .dataframe tbody tr th {\n",
       "        vertical-align: top;\n",
       "    }\n",
       "\n",
       "    .dataframe thead th {\n",
       "        text-align: right;\n",
       "    }\n",
       "</style>\n",
       "<table border=\"1\" class=\"dataframe\">\n",
       "  <thead>\n",
       "    <tr style=\"text-align: right;\">\n",
       "      <th></th>\n",
       "      <th>Company</th>\n",
       "      <th>model</th>\n",
       "      <th>Top Speed</th>\n",
       "      <th>Cylinders</th>\n",
       "      <th>CC</th>\n",
       "      <th>Power Steering</th>\n",
       "    </tr>\n",
       "  </thead>\n",
       "  <tbody>\n",
       "    <tr>\n",
       "      <th>1</th>\n",
       "      <td>Honda</td>\n",
       "      <td>City</td>\n",
       "      <td>220</td>\n",
       "      <td>4</td>\n",
       "      <td>1500</td>\n",
       "      <td>True</td>\n",
       "    </tr>\n",
       "    <tr>\n",
       "      <th>2</th>\n",
       "      <td>Hyundai</td>\n",
       "      <td>i20</td>\n",
       "      <td>180</td>\n",
       "      <td>4</td>\n",
       "      <td>1200</td>\n",
       "      <td>True</td>\n",
       "    </tr>\n",
       "    <tr>\n",
       "      <th>3</th>\n",
       "      <td>Tata</td>\n",
       "      <td>Indica</td>\n",
       "      <td>160</td>\n",
       "      <td>4</td>\n",
       "      <td>1200</td>\n",
       "      <td>True</td>\n",
       "    </tr>\n",
       "  </tbody>\n",
       "</table>\n",
       "</div>"
      ],
      "text/plain": [
       "   Company   model  Top Speed  Cylinders    CC  Power Steering\n",
       "1    Honda    City        220          4  1500            True\n",
       "2  Hyundai     i20        180          4  1200            True\n",
       "3     Tata  Indica        160          4  1200            True"
      ]
     },
     "execution_count": 104,
     "metadata": {},
     "output_type": "execute_result"
    }
   ],
   "source": [
    "# Name, model which has speed greater than 150 \n",
    "df[df['Top Speed']>150]"
   ]
  },
  {
   "cell_type": "code",
   "execution_count": 105,
   "metadata": {},
   "outputs": [
    {
     "data": {
      "text/html": [
       "<div>\n",
       "<style scoped>\n",
       "    .dataframe tbody tr th:only-of-type {\n",
       "        vertical-align: middle;\n",
       "    }\n",
       "\n",
       "    .dataframe tbody tr th {\n",
       "        vertical-align: top;\n",
       "    }\n",
       "\n",
       "    .dataframe thead th {\n",
       "        text-align: right;\n",
       "    }\n",
       "</style>\n",
       "<table border=\"1\" class=\"dataframe\">\n",
       "  <thead>\n",
       "    <tr style=\"text-align: right;\">\n",
       "      <th></th>\n",
       "      <th>Company</th>\n",
       "      <th>model</th>\n",
       "      <th>Top Speed</th>\n",
       "      <th>Cylinders</th>\n",
       "      <th>CC</th>\n",
       "      <th>Power Steering</th>\n",
       "    </tr>\n",
       "  </thead>\n",
       "  <tbody>\n",
       "    <tr>\n",
       "      <th>1</th>\n",
       "      <td>Honda</td>\n",
       "      <td>City</td>\n",
       "      <td>220</td>\n",
       "      <td>4</td>\n",
       "      <td>1500</td>\n",
       "      <td>True</td>\n",
       "    </tr>\n",
       "    <tr>\n",
       "      <th>2</th>\n",
       "      <td>Hyundai</td>\n",
       "      <td>i20</td>\n",
       "      <td>180</td>\n",
       "      <td>4</td>\n",
       "      <td>1200</td>\n",
       "      <td>True</td>\n",
       "    </tr>\n",
       "  </tbody>\n",
       "</table>\n",
       "</div>"
      ],
      "text/plain": [
       "   Company model  Top Speed  Cylinders    CC  Power Steering\n",
       "1    Honda  City        220          4  1500            True\n",
       "2  Hyundai   i20        180          4  1200            True"
      ]
     },
     "execution_count": 105,
     "metadata": {},
     "output_type": "execute_result"
    }
   ],
   "source": [
    "df_1 = df[df['Top Speed']>160]\n",
    "df_1"
   ]
  },
  {
   "cell_type": "code",
   "execution_count": null,
   "metadata": {},
   "outputs": [],
   "source": [
    "df[df['Top Speed']>150]"
   ]
  },
  {
   "cell_type": "code",
   "execution_count": null,
   "metadata": {},
   "outputs": [],
   "source": [
    "df[df['Top Speed']>150]\n",
    "df"
   ]
  },
  {
   "cell_type": "code",
   "execution_count": null,
   "metadata": {},
   "outputs": [],
   "source": [
    "df.iat[2,1]"
   ]
  },
  {
   "cell_type": "code",
   "execution_count": 106,
   "metadata": {},
   "outputs": [],
   "source": [
    "df.to_csv(\"cars.csv\")"
   ]
  },
  {
   "cell_type": "code",
   "execution_count": null,
   "metadata": {},
   "outputs": [],
   "source": []
  },
  {
   "cell_type": "code",
   "execution_count": null,
   "metadata": {},
   "outputs": [],
   "source": []
  }
 ],
 "metadata": {
  "hide_input": false,
  "kernelspec": {
   "display_name": "Python 3",
   "language": "python",
   "name": "python3"
  },
  "language_info": {
   "codemirror_mode": {
    "name": "ipython",
    "version": 3
   },
   "file_extension": ".py",
   "mimetype": "text/x-python",
   "name": "python",
   "nbconvert_exporter": "python",
   "pygments_lexer": "ipython3",
   "version": "3.7.4"
  }
 },
 "nbformat": 4,
 "nbformat_minor": 2
}
